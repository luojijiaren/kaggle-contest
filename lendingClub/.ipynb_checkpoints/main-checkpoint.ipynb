{
 "cells": [
  {
   "cell_type": "markdown",
   "metadata": {},
   "source": [
    "# Set up"
   ]
  },
  {
   "cell_type": "markdown",
   "metadata": {},
   "source": [
    "First, let's make sure this notebook works well in python 2 and 3, import a few common modules, ensure MatplotLib plots figures inline and prepare a function to save the figures:"
   ]
  },
  {
   "cell_type": "code",
   "execution_count": 1,
   "metadata": {
    "collapsed": true
   },
   "outputs": [],
   "source": [
    "#To support python 2 and python 3\n",
    "from __future__ import division, print_function, unicode_literals\n",
    "\n",
    "import numpy as np\n",
    "import os\n",
    "\n",
    "# to make this notebook's output stable across runs\n",
    "np.random.seed(42)\n",
    "\n",
    "# To plot pretty figures\n",
    "%matplotlib inline\n",
    "import matplotlib\n",
    "import matplotlib.pyplot as plt\n",
    "plt.rcParams['axes.labelsize']=14\n",
    "plt.rcParams['xtick.labelsize']=12\n",
    "plt.rcParams['ytick.labelsize']=12\n",
    "\n",
    "#where to save the figures\n",
    "PROJECT_ROOT_DIR='.'\n",
    "#CHAPTER_ID='end_to_end_project'\n",
    "IMAGES_PATH=os.path.join(PROJECT_ROOT_DIR,'images')\n",
    "\n",
    "def save_fig(fig_id,tight_layout=True, fig_extension='png', resolution=300):\n",
    "    path=os.path.join(IMAGES_PATH,fig_id+'.'+fig_extension)\n",
    "    print('Saving figure', fig_id)\n",
    "    if tight_layout:\n",
    "        plt.tight_layout()\n",
    "    plt.savefig(path, format=fig_extension, dpi=resolution)\n",
    "    \n",
    "#ingore useless warnings\n",
    "import warnings\n",
    "warnings.filterwarnings(action='ignore',module='scipy',message='^internal gelsd')"
   ]
  },
  {
   "cell_type": "markdown",
   "metadata": {},
   "source": [
    "# Get the data"
   ]
  },
  {
   "cell_type": "code",
   "execution_count": 122,
   "metadata": {
    "collapsed": true
   },
   "outputs": [],
   "source": [
    "import sqlite3\n",
    "import pandas as pd\n",
    "DATA_PATH='database.sqlite/database.sqlite'\n",
    "def fetch_loan_data(dataPath,exectCmd):\n",
    "    con=sqlite3.connect(dataPath)\n",
    "    cursor=con.cursor()\n",
    "    cursor.execute(exectCmd)\n",
    "    rows=cursor.fetchall()\n",
    "    data=pd.DataFrame(rows,columns=list(zip(*cursor.description))[0])\n",
    "    return data\n",
    "data0=fetch_loan_data(DATA_PATH, 'SELECT * FROM loan')"
   ]
  },
  {
   "cell_type": "code",
   "execution_count": 123,
   "metadata": {
    "collapsed": true
   },
   "outputs": [],
   "source": [
    "data=data0.copy()"
   ]
  },
  {
   "cell_type": "code",
   "execution_count": null,
   "metadata": {
    "collapsed": true
   },
   "outputs": [],
   "source": [
    "from numba import jit\n",
    "@jit"
   ]
  },
  {
   "cell_type": "code",
   "execution_count": 3,
   "metadata": {},
   "outputs": [],
   "source": [
    "import sqlalchemy as sqla\n",
    "import pandas as pd\n",
    "db=sqla.create_engine('sqlite:///database.sqlite/database.sqlite')\n",
    "data=pd.read_sql('select * from loan',db)\n"
   ]
  },
  {
   "cell_type": "code",
   "execution_count": 10,
   "metadata": {},
   "outputs": [
    {
     "data": {
      "text/html": [
       "<div>\n",
       "<style>\n",
       "    .dataframe thead tr:only-child th {\n",
       "        text-align: right;\n",
       "    }\n",
       "\n",
       "    .dataframe thead th {\n",
       "        text-align: left;\n",
       "    }\n",
       "\n",
       "    .dataframe tbody tr th {\n",
       "        vertical-align: top;\n",
       "    }\n",
       "</style>\n",
       "<table border=\"1\" class=\"dataframe\">\n",
       "  <thead>\n",
       "    <tr style=\"text-align: right;\">\n",
       "      <th></th>\n",
       "      <th>index</th>\n",
       "      <th>id</th>\n",
       "      <th>member_id</th>\n",
       "      <th>loan_amnt</th>\n",
       "      <th>funded_amnt</th>\n",
       "      <th>funded_amnt_inv</th>\n",
       "      <th>term</th>\n",
       "      <th>int_rate</th>\n",
       "      <th>installment</th>\n",
       "      <th>grade</th>\n",
       "      <th>...</th>\n",
       "      <th>total_bal_il</th>\n",
       "      <th>il_util</th>\n",
       "      <th>open_rv_12m</th>\n",
       "      <th>open_rv_24m</th>\n",
       "      <th>max_bal_bc</th>\n",
       "      <th>all_util</th>\n",
       "      <th>total_rev_hi_lim</th>\n",
       "      <th>inq_fi</th>\n",
       "      <th>total_cu_tl</th>\n",
       "      <th>inq_last_12m</th>\n",
       "    </tr>\n",
       "  </thead>\n",
       "  <tbody>\n",
       "    <tr>\n",
       "      <th>0</th>\n",
       "      <td>0</td>\n",
       "      <td>1077501</td>\n",
       "      <td>1296599.0</td>\n",
       "      <td>5000.0</td>\n",
       "      <td>5000.0</td>\n",
       "      <td>4975.0</td>\n",
       "      <td>36 months</td>\n",
       "      <td>10.65%</td>\n",
       "      <td>162.87</td>\n",
       "      <td>B</td>\n",
       "      <td>...</td>\n",
       "      <td>NaN</td>\n",
       "      <td>NaN</td>\n",
       "      <td>NaN</td>\n",
       "      <td>NaN</td>\n",
       "      <td>NaN</td>\n",
       "      <td>NaN</td>\n",
       "      <td>NaN</td>\n",
       "      <td>NaN</td>\n",
       "      <td>NaN</td>\n",
       "      <td>NaN</td>\n",
       "    </tr>\n",
       "    <tr>\n",
       "      <th>1</th>\n",
       "      <td>1</td>\n",
       "      <td>1077430</td>\n",
       "      <td>1314167.0</td>\n",
       "      <td>2500.0</td>\n",
       "      <td>2500.0</td>\n",
       "      <td>2500.0</td>\n",
       "      <td>60 months</td>\n",
       "      <td>15.27%</td>\n",
       "      <td>59.83</td>\n",
       "      <td>C</td>\n",
       "      <td>...</td>\n",
       "      <td>NaN</td>\n",
       "      <td>NaN</td>\n",
       "      <td>NaN</td>\n",
       "      <td>NaN</td>\n",
       "      <td>NaN</td>\n",
       "      <td>NaN</td>\n",
       "      <td>NaN</td>\n",
       "      <td>NaN</td>\n",
       "      <td>NaN</td>\n",
       "      <td>NaN</td>\n",
       "    </tr>\n",
       "    <tr>\n",
       "      <th>2</th>\n",
       "      <td>2</td>\n",
       "      <td>1077175</td>\n",
       "      <td>1313524.0</td>\n",
       "      <td>2400.0</td>\n",
       "      <td>2400.0</td>\n",
       "      <td>2400.0</td>\n",
       "      <td>36 months</td>\n",
       "      <td>15.96%</td>\n",
       "      <td>84.33</td>\n",
       "      <td>C</td>\n",
       "      <td>...</td>\n",
       "      <td>NaN</td>\n",
       "      <td>NaN</td>\n",
       "      <td>NaN</td>\n",
       "      <td>NaN</td>\n",
       "      <td>NaN</td>\n",
       "      <td>NaN</td>\n",
       "      <td>NaN</td>\n",
       "      <td>NaN</td>\n",
       "      <td>NaN</td>\n",
       "      <td>NaN</td>\n",
       "    </tr>\n",
       "  </tbody>\n",
       "</table>\n",
       "<p>3 rows × 75 columns</p>\n",
       "</div>"
      ],
      "text/plain": [
       "   index       id  member_id  loan_amnt  funded_amnt  funded_amnt_inv  \\\n",
       "0      0  1077501  1296599.0     5000.0       5000.0           4975.0   \n",
       "1      1  1077430  1314167.0     2500.0       2500.0           2500.0   \n",
       "2      2  1077175  1313524.0     2400.0       2400.0           2400.0   \n",
       "\n",
       "         term int_rate  installment grade     ...      total_bal_il il_util  \\\n",
       "0   36 months   10.65%       162.87     B     ...               NaN     NaN   \n",
       "1   60 months   15.27%        59.83     C     ...               NaN     NaN   \n",
       "2   36 months   15.96%        84.33     C     ...               NaN     NaN   \n",
       "\n",
       "  open_rv_12m open_rv_24m  max_bal_bc all_util total_rev_hi_lim inq_fi  \\\n",
       "0         NaN         NaN         NaN      NaN              NaN    NaN   \n",
       "1         NaN         NaN         NaN      NaN              NaN    NaN   \n",
       "2         NaN         NaN         NaN      NaN              NaN    NaN   \n",
       "\n",
       "  total_cu_tl inq_last_12m  \n",
       "0         NaN          NaN  \n",
       "1         NaN          NaN  \n",
       "2         NaN          NaN  \n",
       "\n",
       "[3 rows x 75 columns]"
      ]
     },
     "execution_count": 10,
     "metadata": {},
     "output_type": "execute_result"
    }
   ],
   "source": [
    "data[:3]"
   ]
  },
  {
   "cell_type": "code",
   "execution_count": 11,
   "metadata": {},
   "outputs": [
    {
     "name": "stdout",
     "output_type": "stream",
     "text": [
      "<class 'pandas.core.frame.DataFrame'>\n",
      "RangeIndex: 887383 entries, 0 to 887382\n",
      "Data columns (total 75 columns):\n",
      "index                          887383 non-null int64\n",
      "id                             887383 non-null object\n",
      "member_id                      887382 non-null float64\n",
      "loan_amnt                      887382 non-null float64\n",
      "funded_amnt                    887382 non-null float64\n",
      "funded_amnt_inv                887382 non-null float64\n",
      "term                           887382 non-null object\n",
      "int_rate                       887382 non-null object\n",
      "installment                    887382 non-null float64\n",
      "grade                          887382 non-null object\n",
      "sub_grade                      887382 non-null object\n",
      "emp_title                      835925 non-null object\n",
      "emp_length                     887382 non-null object\n",
      "home_ownership                 887382 non-null object\n",
      "annual_inc                     887378 non-null float64\n",
      "verification_status            887382 non-null object\n",
      "issue_d                        887382 non-null object\n",
      "loan_status                    887382 non-null object\n",
      "pymnt_plan                     887382 non-null object\n",
      "url                            887382 non-null object\n",
      "desc                           126029 non-null object\n",
      "purpose                        887382 non-null object\n",
      "title                          887231 non-null object\n",
      "zip_code                       887382 non-null object\n",
      "addr_state                     887382 non-null object\n",
      "dti                            887382 non-null float64\n",
      "delinq_2yrs                    887353 non-null float64\n",
      "earliest_cr_line               887353 non-null object\n",
      "inq_last_6mths                 887353 non-null float64\n",
      "mths_since_last_delinq         433069 non-null float64\n",
      "mths_since_last_record         137053 non-null float64\n",
      "open_acc                       887353 non-null float64\n",
      "pub_rec                        887353 non-null float64\n",
      "revol_bal                      887382 non-null float64\n",
      "revol_util                     886880 non-null object\n",
      "total_acc                      887353 non-null float64\n",
      "initial_list_status            887382 non-null object\n",
      "out_prncp                      887382 non-null float64\n",
      "out_prncp_inv                  887382 non-null float64\n",
      "total_pymnt                    887382 non-null float64\n",
      "total_pymnt_inv                887382 non-null float64\n",
      "total_rec_prncp                887382 non-null float64\n",
      "total_rec_int                  887382 non-null float64\n",
      "total_rec_late_fee             887382 non-null float64\n",
      "recoveries                     887382 non-null float64\n",
      "collection_recovery_fee        887382 non-null float64\n",
      "last_pymnt_d                   869723 non-null object\n",
      "last_pymnt_amnt                887382 non-null float64\n",
      "next_pymnt_d                   634410 non-null object\n",
      "last_credit_pull_d             887329 non-null object\n",
      "collections_12_mths_ex_med     887237 non-null float64\n",
      "mths_since_last_major_derog    221704 non-null float64\n",
      "policy_code                    887382 non-null float64\n",
      "application_type               887382 non-null object\n",
      "annual_inc_joint               511 non-null float64\n",
      "dti_joint                      509 non-null float64\n",
      "verification_status_joint      511 non-null object\n",
      "acc_now_delinq                 887353 non-null float64\n",
      "tot_coll_amt                   817106 non-null float64\n",
      "tot_cur_bal                    817106 non-null float64\n",
      "open_acc_6m                    21372 non-null float64\n",
      "open_il_6m                     21372 non-null float64\n",
      "open_il_12m                    21372 non-null float64\n",
      "open_il_24m                    21372 non-null float64\n",
      "mths_since_rcnt_il             20810 non-null float64\n",
      "total_bal_il                   21372 non-null float64\n",
      "il_util                        18617 non-null float64\n",
      "open_rv_12m                    21372 non-null float64\n",
      "open_rv_24m                    21372 non-null float64\n",
      "max_bal_bc                     21372 non-null float64\n",
      "all_util                       21372 non-null float64\n",
      "total_rev_hi_lim               817106 non-null float64\n",
      "inq_fi                         21372 non-null float64\n",
      "total_cu_tl                    21372 non-null float64\n",
      "inq_last_12m                   21372 non-null float64\n",
      "dtypes: float64(48), int64(1), object(26)\n",
      "memory usage: 507.8+ MB\n"
     ]
    }
   ],
   "source": [
    "data.info()"
   ]
  },
  {
   "cell_type": "code",
   "execution_count": 15,
   "metadata": {},
   "outputs": [
    {
     "data": {
      "text/plain": [
       "Current                                                601781\n",
       "Fully Paid                                             207724\n",
       "Charged Off                                             45248\n",
       "Late (31-120 days)                                      11591\n",
       "Issued                                                   8460\n",
       "In Grace Period                                          6253\n",
       "Late (16-30 days)                                        2357\n",
       "Does not meet the credit policy. Status:Fully Paid       1988\n",
       "Default                                                  1219\n",
       "Does not meet the credit policy. Status:Charged Off       761\n",
       "Name: loan_status, dtype: int64"
      ]
     },
     "execution_count": 15,
     "metadata": {},
     "output_type": "execute_result"
    }
   ],
   "source": [
    "data.loan_status.value_counts()"
   ]
  },
  {
   "cell_type": "code",
   "execution_count": 16,
   "metadata": {},
   "outputs": [
    {
     "data": {
      "text/html": [
       "<div>\n",
       "<style>\n",
       "    .dataframe thead tr:only-child th {\n",
       "        text-align: right;\n",
       "    }\n",
       "\n",
       "    .dataframe thead th {\n",
       "        text-align: left;\n",
       "    }\n",
       "\n",
       "    .dataframe tbody tr th {\n",
       "        vertical-align: top;\n",
       "    }\n",
       "</style>\n",
       "<table border=\"1\" class=\"dataframe\">\n",
       "  <thead>\n",
       "    <tr style=\"text-align: right;\">\n",
       "      <th></th>\n",
       "      <th>index</th>\n",
       "      <th>member_id</th>\n",
       "      <th>loan_amnt</th>\n",
       "      <th>funded_amnt</th>\n",
       "      <th>funded_amnt_inv</th>\n",
       "      <th>installment</th>\n",
       "      <th>annual_inc</th>\n",
       "      <th>dti</th>\n",
       "      <th>delinq_2yrs</th>\n",
       "      <th>inq_last_6mths</th>\n",
       "      <th>...</th>\n",
       "      <th>total_bal_il</th>\n",
       "      <th>il_util</th>\n",
       "      <th>open_rv_12m</th>\n",
       "      <th>open_rv_24m</th>\n",
       "      <th>max_bal_bc</th>\n",
       "      <th>all_util</th>\n",
       "      <th>total_rev_hi_lim</th>\n",
       "      <th>inq_fi</th>\n",
       "      <th>total_cu_tl</th>\n",
       "      <th>inq_last_12m</th>\n",
       "    </tr>\n",
       "  </thead>\n",
       "  <tbody>\n",
       "    <tr>\n",
       "      <th>count</th>\n",
       "      <td>887383.000000</td>\n",
       "      <td>8.873820e+05</td>\n",
       "      <td>887382.000000</td>\n",
       "      <td>887382.000000</td>\n",
       "      <td>887382.000000</td>\n",
       "      <td>887382.000000</td>\n",
       "      <td>8.873780e+05</td>\n",
       "      <td>887382.00000</td>\n",
       "      <td>887353.000000</td>\n",
       "      <td>887353.000000</td>\n",
       "      <td>...</td>\n",
       "      <td>21372.000000</td>\n",
       "      <td>18617.000000</td>\n",
       "      <td>21372.000000</td>\n",
       "      <td>21372.000000</td>\n",
       "      <td>21372.000000</td>\n",
       "      <td>21372.000000</td>\n",
       "      <td>8.171060e+05</td>\n",
       "      <td>21372.000000</td>\n",
       "      <td>21372.000000</td>\n",
       "      <td>21372.000000</td>\n",
       "    </tr>\n",
       "    <tr>\n",
       "      <th>mean</th>\n",
       "      <td>152155.671062</td>\n",
       "      <td>3.500184e+07</td>\n",
       "      <td>14755.280082</td>\n",
       "      <td>14741.893147</td>\n",
       "      <td>14702.480039</td>\n",
       "      <td>436.717647</td>\n",
       "      <td>7.502761e+04</td>\n",
       "      <td>18.15702</td>\n",
       "      <td>0.314445</td>\n",
       "      <td>0.694622</td>\n",
       "      <td>...</td>\n",
       "      <td>36552.811389</td>\n",
       "      <td>71.535317</td>\n",
       "      <td>1.389060</td>\n",
       "      <td>2.975482</td>\n",
       "      <td>5887.979740</td>\n",
       "      <td>60.831939</td>\n",
       "      <td>3.206868e+04</td>\n",
       "      <td>0.943945</td>\n",
       "      <td>1.537058</td>\n",
       "      <td>1.977307</td>\n",
       "    </tr>\n",
       "    <tr>\n",
       "      <th>std</th>\n",
       "      <td>111089.623731</td>\n",
       "      <td>2.411336e+07</td>\n",
       "      <td>8435.456408</td>\n",
       "      <td>8429.898507</td>\n",
       "      <td>8442.107612</td>\n",
       "      <td>244.186619</td>\n",
       "      <td>6.469823e+04</td>\n",
       "      <td>17.19060</td>\n",
       "      <td>0.862247</td>\n",
       "      <td>0.998447</td>\n",
       "      <td>...</td>\n",
       "      <td>43103.833619</td>\n",
       "      <td>23.022862</td>\n",
       "      <td>1.520129</td>\n",
       "      <td>2.631886</td>\n",
       "      <td>5284.701239</td>\n",
       "      <td>20.013254</td>\n",
       "      <td>3.749833e+04</td>\n",
       "      <td>1.446872</td>\n",
       "      <td>2.723339</td>\n",
       "      <td>2.874067</td>\n",
       "    </tr>\n",
       "    <tr>\n",
       "      <th>min</th>\n",
       "      <td>0.000000</td>\n",
       "      <td>7.047300e+04</td>\n",
       "      <td>500.000000</td>\n",
       "      <td>500.000000</td>\n",
       "      <td>0.000000</td>\n",
       "      <td>15.670000</td>\n",
       "      <td>0.000000e+00</td>\n",
       "      <td>0.00000</td>\n",
       "      <td>0.000000</td>\n",
       "      <td>0.000000</td>\n",
       "      <td>...</td>\n",
       "      <td>0.000000</td>\n",
       "      <td>0.000000</td>\n",
       "      <td>0.000000</td>\n",
       "      <td>0.000000</td>\n",
       "      <td>0.000000</td>\n",
       "      <td>0.000000</td>\n",
       "      <td>0.000000e+00</td>\n",
       "      <td>0.000000</td>\n",
       "      <td>0.000000</td>\n",
       "      <td>-4.000000</td>\n",
       "    </tr>\n",
       "    <tr>\n",
       "      <th>25%</th>\n",
       "      <td>59769.500000</td>\n",
       "      <td>1.087713e+07</td>\n",
       "      <td>8000.000000</td>\n",
       "      <td>8000.000000</td>\n",
       "      <td>8000.000000</td>\n",
       "      <td>260.710000</td>\n",
       "      <td>4.500000e+04</td>\n",
       "      <td>11.91000</td>\n",
       "      <td>0.000000</td>\n",
       "      <td>0.000000</td>\n",
       "      <td>...</td>\n",
       "      <td>10251.500000</td>\n",
       "      <td>58.600000</td>\n",
       "      <td>0.000000</td>\n",
       "      <td>1.000000</td>\n",
       "      <td>2411.000000</td>\n",
       "      <td>47.700000</td>\n",
       "      <td>1.390000e+04</td>\n",
       "      <td>0.000000</td>\n",
       "      <td>0.000000</td>\n",
       "      <td>0.000000</td>\n",
       "    </tr>\n",
       "    <tr>\n",
       "      <th>50%</th>\n",
       "      <td>133718.000000</td>\n",
       "      <td>3.709528e+07</td>\n",
       "      <td>13000.000000</td>\n",
       "      <td>13000.000000</td>\n",
       "      <td>13000.000000</td>\n",
       "      <td>382.550000</td>\n",
       "      <td>6.500000e+04</td>\n",
       "      <td>17.65000</td>\n",
       "      <td>0.000000</td>\n",
       "      <td>0.000000</td>\n",
       "      <td>...</td>\n",
       "      <td>24684.500000</td>\n",
       "      <td>74.900000</td>\n",
       "      <td>1.000000</td>\n",
       "      <td>2.000000</td>\n",
       "      <td>4483.000000</td>\n",
       "      <td>61.900000</td>\n",
       "      <td>2.370000e+04</td>\n",
       "      <td>0.000000</td>\n",
       "      <td>0.000000</td>\n",
       "      <td>2.000000</td>\n",
       "    </tr>\n",
       "    <tr>\n",
       "      <th>75%</th>\n",
       "      <td>217438.500000</td>\n",
       "      <td>5.847135e+07</td>\n",
       "      <td>20000.000000</td>\n",
       "      <td>20000.000000</td>\n",
       "      <td>20000.000000</td>\n",
       "      <td>572.600000</td>\n",
       "      <td>9.000000e+04</td>\n",
       "      <td>23.95000</td>\n",
       "      <td>0.000000</td>\n",
       "      <td>1.000000</td>\n",
       "      <td>...</td>\n",
       "      <td>47858.000000</td>\n",
       "      <td>87.600000</td>\n",
       "      <td>2.000000</td>\n",
       "      <td>4.000000</td>\n",
       "      <td>7771.500000</td>\n",
       "      <td>75.200000</td>\n",
       "      <td>3.980000e+04</td>\n",
       "      <td>1.000000</td>\n",
       "      <td>2.000000</td>\n",
       "      <td>3.000000</td>\n",
       "    </tr>\n",
       "    <tr>\n",
       "      <th>max</th>\n",
       "      <td>421094.000000</td>\n",
       "      <td>7.354484e+07</td>\n",
       "      <td>35000.000000</td>\n",
       "      <td>35000.000000</td>\n",
       "      <td>35000.000000</td>\n",
       "      <td>1445.460000</td>\n",
       "      <td>9.500000e+06</td>\n",
       "      <td>9999.00000</td>\n",
       "      <td>39.000000</td>\n",
       "      <td>33.000000</td>\n",
       "      <td>...</td>\n",
       "      <td>878459.000000</td>\n",
       "      <td>223.300000</td>\n",
       "      <td>22.000000</td>\n",
       "      <td>43.000000</td>\n",
       "      <td>127305.000000</td>\n",
       "      <td>151.400000</td>\n",
       "      <td>9.999999e+06</td>\n",
       "      <td>17.000000</td>\n",
       "      <td>35.000000</td>\n",
       "      <td>32.000000</td>\n",
       "    </tr>\n",
       "  </tbody>\n",
       "</table>\n",
       "<p>8 rows × 49 columns</p>\n",
       "</div>"
      ],
      "text/plain": [
       "               index     member_id      loan_amnt    funded_amnt  \\\n",
       "count  887383.000000  8.873820e+05  887382.000000  887382.000000   \n",
       "mean   152155.671062  3.500184e+07   14755.280082   14741.893147   \n",
       "std    111089.623731  2.411336e+07    8435.456408    8429.898507   \n",
       "min         0.000000  7.047300e+04     500.000000     500.000000   \n",
       "25%     59769.500000  1.087713e+07    8000.000000    8000.000000   \n",
       "50%    133718.000000  3.709528e+07   13000.000000   13000.000000   \n",
       "75%    217438.500000  5.847135e+07   20000.000000   20000.000000   \n",
       "max    421094.000000  7.354484e+07   35000.000000   35000.000000   \n",
       "\n",
       "       funded_amnt_inv    installment    annual_inc           dti  \\\n",
       "count    887382.000000  887382.000000  8.873780e+05  887382.00000   \n",
       "mean      14702.480039     436.717647  7.502761e+04      18.15702   \n",
       "std        8442.107612     244.186619  6.469823e+04      17.19060   \n",
       "min           0.000000      15.670000  0.000000e+00       0.00000   \n",
       "25%        8000.000000     260.710000  4.500000e+04      11.91000   \n",
       "50%       13000.000000     382.550000  6.500000e+04      17.65000   \n",
       "75%       20000.000000     572.600000  9.000000e+04      23.95000   \n",
       "max       35000.000000    1445.460000  9.500000e+06    9999.00000   \n",
       "\n",
       "         delinq_2yrs  inq_last_6mths      ...        total_bal_il  \\\n",
       "count  887353.000000   887353.000000      ...        21372.000000   \n",
       "mean        0.314445        0.694622      ...        36552.811389   \n",
       "std         0.862247        0.998447      ...        43103.833619   \n",
       "min         0.000000        0.000000      ...            0.000000   \n",
       "25%         0.000000        0.000000      ...        10251.500000   \n",
       "50%         0.000000        0.000000      ...        24684.500000   \n",
       "75%         0.000000        1.000000      ...        47858.000000   \n",
       "max        39.000000       33.000000      ...       878459.000000   \n",
       "\n",
       "            il_util   open_rv_12m   open_rv_24m     max_bal_bc      all_util  \\\n",
       "count  18617.000000  21372.000000  21372.000000   21372.000000  21372.000000   \n",
       "mean      71.535317      1.389060      2.975482    5887.979740     60.831939   \n",
       "std       23.022862      1.520129      2.631886    5284.701239     20.013254   \n",
       "min        0.000000      0.000000      0.000000       0.000000      0.000000   \n",
       "25%       58.600000      0.000000      1.000000    2411.000000     47.700000   \n",
       "50%       74.900000      1.000000      2.000000    4483.000000     61.900000   \n",
       "75%       87.600000      2.000000      4.000000    7771.500000     75.200000   \n",
       "max      223.300000     22.000000     43.000000  127305.000000    151.400000   \n",
       "\n",
       "       total_rev_hi_lim        inq_fi   total_cu_tl  inq_last_12m  \n",
       "count      8.171060e+05  21372.000000  21372.000000  21372.000000  \n",
       "mean       3.206868e+04      0.943945      1.537058      1.977307  \n",
       "std        3.749833e+04      1.446872      2.723339      2.874067  \n",
       "min        0.000000e+00      0.000000      0.000000     -4.000000  \n",
       "25%        1.390000e+04      0.000000      0.000000      0.000000  \n",
       "50%        2.370000e+04      0.000000      0.000000      2.000000  \n",
       "75%        3.980000e+04      1.000000      2.000000      3.000000  \n",
       "max        9.999999e+06     17.000000     35.000000     32.000000  \n",
       "\n",
       "[8 rows x 49 columns]"
      ]
     },
     "execution_count": 16,
     "metadata": {},
     "output_type": "execute_result"
    }
   ],
   "source": [
    "data.describe()"
   ]
  },
  {
   "cell_type": "code",
   "execution_count": 20,
   "metadata": {},
   "outputs": [
    {
     "name": "stdout",
     "output_type": "stream",
     "text": [
      "Saving figure attribute_histogram_plots\n"
     ]
    },
    {
     "data": {
      "image/png": "[encoded data removed]",
      "text/plain": [
       "<matplotlib.figure.Figure at 0x29026c8b400>"
      ]
     },
     "metadata": {},
     "output_type": "display_data"
    }
   ],
   "source": [
    "%matplotlib inline\n",
    "import matplotlib.pyplot as plt\n",
    "data.hist(bins=50,figsize=(20,15))\n",
    "save_fig('attribute_histogram_plots')\n",
    "plt.show()"
   ]
  },
  {
   "cell_type": "code",
   "execution_count": 13,
   "metadata": {},
   "outputs": [
    {
     "name": "stdout",
     "output_type": "stream",
     "text": [
      "['annual_inc_joint', 'dti_joint', 'verification_status_joint', 'open_acc_6m', 'open_il_6m', 'open_il_12m', 'open_il_24m', 'mths_since_rcnt_il', 'total_bal_il', 'il_util', 'open_rv_12m', 'open_rv_24m', 'max_bal_bc', 'all_util', 'inq_fi', 'total_cu_tl', 'inq_last_12m']\n"
     ]
    }
   ],
   "source": [
    "cols=[]\n",
    "for column in data.columns:\n",
    "    if sum(data[column].notnull())<27000:\n",
    "        cols.append(column)\n",
    "print(cols)"
   ]
  },
  {
   "cell_type": "code",
   "execution_count": 14,
   "metadata": {},
   "outputs": [
    {
     "name": "stdout",
     "output_type": "stream",
     "text": [
      "<class 'pandas.core.frame.DataFrame'>\n",
      "RangeIndex: 887383 entries, 0 to 887382\n",
      "Data columns (total 19 columns):\n",
      "loan_status                  887382 non-null object\n",
      "loan_amnt                    887382 non-null float64\n",
      "annual_inc_joint             511 non-null float64\n",
      "dti_joint                    509 non-null float64\n",
      "verification_status_joint    511 non-null object\n",
      "open_acc_6m                  21372 non-null float64\n",
      "open_il_6m                   21372 non-null float64\n",
      "open_il_12m                  21372 non-null float64\n",
      "open_il_24m                  21372 non-null float64\n",
      "mths_since_rcnt_il           20810 non-null float64\n",
      "total_bal_il                 21372 non-null float64\n",
      "il_util                      18617 non-null float64\n",
      "open_rv_12m                  21372 non-null float64\n",
      "open_rv_24m                  21372 non-null float64\n",
      "max_bal_bc                   21372 non-null float64\n",
      "all_util                     21372 non-null float64\n",
      "inq_fi                       21372 non-null float64\n",
      "total_cu_tl                  21372 non-null float64\n",
      "inq_last_12m                 21372 non-null float64\n",
      "dtypes: float64(17), object(2)\n",
      "memory usage: 128.6+ MB\n",
      "(511, 5)\n",
      "(21372, 16)\n",
      "<class 'pandas.core.frame.DataFrame'>\n",
      "RangeIndex: 887383 entries, 0 to 887382\n",
      "Data columns (total 58 columns):\n",
      "index                          887383 non-null int64\n",
      "id                             887383 non-null object\n",
      "member_id                      887382 non-null float64\n",
      "loan_amnt                      887382 non-null float64\n",
      "funded_amnt                    887382 non-null float64\n",
      "funded_amnt_inv                887382 non-null float64\n",
      "term                           887382 non-null object\n",
      "int_rate                       887382 non-null object\n",
      "installment                    887382 non-null float64\n",
      "grade                          887382 non-null object\n",
      "sub_grade                      887382 non-null object\n",
      "emp_title                      835925 non-null object\n",
      "emp_length                     887382 non-null object\n",
      "home_ownership                 887382 non-null object\n",
      "annual_inc                     887378 non-null float64\n",
      "verification_status            887382 non-null object\n",
      "issue_d                        887382 non-null object\n",
      "loan_status                    887382 non-null object\n",
      "pymnt_plan                     887382 non-null object\n",
      "url                            887382 non-null object\n",
      "desc                           126029 non-null object\n",
      "purpose                        887382 non-null object\n",
      "title                          887231 non-null object\n",
      "zip_code                       887382 non-null object\n",
      "addr_state                     887382 non-null object\n",
      "dti                            887382 non-null float64\n",
      "delinq_2yrs                    887353 non-null float64\n",
      "earliest_cr_line               887353 non-null object\n",
      "inq_last_6mths                 887353 non-null float64\n",
      "mths_since_last_delinq         433069 non-null float64\n",
      "mths_since_last_record         137053 non-null float64\n",
      "open_acc                       887353 non-null float64\n",
      "pub_rec                        887353 non-null float64\n",
      "revol_bal                      887382 non-null float64\n",
      "revol_util                     886880 non-null object\n",
      "total_acc                      887353 non-null float64\n",
      "initial_list_status            887382 non-null object\n",
      "out_prncp                      887382 non-null float64\n",
      "out_prncp_inv                  887382 non-null float64\n",
      "total_pymnt                    887382 non-null float64\n",
      "total_pymnt_inv                887382 non-null float64\n",
      "total_rec_prncp                887382 non-null float64\n",
      "total_rec_int                  887382 non-null float64\n",
      "total_rec_late_fee             887382 non-null float64\n",
      "recoveries                     887382 non-null float64\n",
      "collection_recovery_fee        887382 non-null float64\n",
      "last_pymnt_d                   869723 non-null object\n",
      "last_pymnt_amnt                887382 non-null float64\n",
      "next_pymnt_d                   634410 non-null object\n",
      "last_credit_pull_d             887329 non-null object\n",
      "collections_12_mths_ex_med     887237 non-null float64\n",
      "mths_since_last_major_derog    221704 non-null float64\n",
      "policy_code                    887382 non-null float64\n",
      "application_type               887382 non-null object\n",
      "acc_now_delinq                 887353 non-null float64\n",
      "tot_coll_amt                   817106 non-null float64\n",
      "tot_cur_bal                    817106 non-null float64\n",
      "total_rev_hi_lim               817106 non-null float64\n",
      "dtypes: float64(32), int64(1), object(25)\n",
      "memory usage: 392.7+ MB\n"
     ]
    },
    {
     "data": {
      "text/plain": [
       "Feb-2016    553407\n",
       "Jan-2016     78196\n",
       "Mar-2011       107\n",
       "Apr-2011       101\n",
       "Feb-2011        91\n",
       "Jan-2011        79\n",
       "May-2011        77\n",
       "Dec-2010        71\n",
       "Mar-2016        68\n",
       "Jun-2011        66\n",
       "Sep-2011        63\n",
       "Aug-2011        57\n",
       "Nov-2010        55\n",
       "Aug-2010        54\n",
       "Sep-2010        53\n",
       "Dec-2009        53\n",
       "Jul-2011        53\n",
       "Oct-2009        53\n",
       "Nov-2009        52\n",
       "Dec-2008        51\n",
       "Jul-2010        49\n",
       "Mar-2010        49\n",
       "Apr-2012        49\n",
       "Mar-2012        48\n",
       "May-2012        48\n",
       "Oct-2010        48\n",
       "Oct-2012        47\n",
       "Oct-2011        47\n",
       "Jan-2012        45\n",
       "Dec-2011        43\n",
       "             ...  \n",
       "Sep-2015         9\n",
       "Jul-2015         8\n",
       "Nov-2008         7\n",
       "Mar-2014         7\n",
       "May-2015         7\n",
       "Apr-2015         7\n",
       "May-2014         6\n",
       "Jun-2015         6\n",
       "Feb-2009         5\n",
       "Sep-2008         5\n",
       "Dec-2014         4\n",
       "Feb-2015         4\n",
       "Jun-2008         4\n",
       "Apr-2008         4\n",
       "Jan-2008         4\n",
       "Nov-2014         3\n",
       "Mar-2008         3\n",
       "Sep-2014         3\n",
       "Apr-2014         3\n",
       "Jun-2014         3\n",
       "Jul-2008         3\n",
       "Jan-2015         3\n",
       "Oct-2014         2\n",
       "Dec-2015         2\n",
       "Aug-2014         2\n",
       "Feb-2008         2\n",
       "Jul-2014         2\n",
       "May-2008         1\n",
       "Mar-2015         1\n",
       "Dec-2007         1\n",
       "Name: next_pymnt_d, Length: 100, dtype: int64"
      ]
     },
     "execution_count": 14,
     "metadata": {},
     "output_type": "execute_result"
    }
   ],
   "source": [
    "minority_data=data[['loan_status','loan_amnt','annual_inc_joint', 'dti_joint', 'verification_status_joint', 'open_acc_6m', 'open_il_6m', 'open_il_12m', 'open_il_24m', 'mths_since_rcnt_il', 'total_bal_il', 'il_util', 'open_rv_12m', 'open_rv_24m', 'max_bal_bc', 'all_util', 'inq_fi', 'total_cu_tl', 'inq_last_12m']]\n",
    "minority_data.info()\n",
    "\n",
    "minority_data1=minority_data.iloc[:,:5].dropna(thresh=3)\n",
    "print(minority_data1.shape)\n",
    "pd.crosstab(minority_data1.loan_status,minority_data1.verification_status_joint)\n",
    "minority_data1['loan_status'].value_counts()\n",
    "m11=minority_data1.groupby('loan_status').mean()\n",
    "m11['count']=minority_data1['loan_status'].value_counts()\n",
    "m11\n",
    "\n",
    "minority_data2=minority_data.drop(['annual_inc_joint', 'dti_joint', 'verification_status_joint'],axis=1).dropna(thresh=5)\n",
    "print(minority_data2.shape)\n",
    "\n",
    "majority_data=data.drop(cols,axis=1)\n",
    "majority_data.info()\n",
    "\n",
    "majority_data[['desc','mths_since_last_delinq','mths_since_last_record','next_pymnt_d','mths_since_last_major_derog']].dropna().describe()\n",
    "\n",
    "majority_data.next_pymnt_d.dropna().value_counts()"
   ]
  },
  {
   "cell_type": "code",
   "execution_count": 15,
   "metadata": {
    "collapsed": true
   },
   "outputs": [],
   "source": [
    "from sklearn.preprocessing import MinMaxScaler\n",
    "from sklearn.preprocessing import Imputer\n",
    "def transform(data):\n",
    "    data[['annual_inc_joint', 'dti_joint', 'verification_status_joint', 'open_acc_6m', 'open_il_6m', 'open_il_12m', 'open_il_24m', 'mths_since_rcnt_il', 'total_bal_il', 'il_util', 'open_rv_12m', 'open_rv_24m', 'max_bal_bc', 'all_util', 'inq_fi', 'total_cu_tl', 'inq_last_12m','mths_since_last_delinq','mths_since_last_record','mths_since_last_major_derog']]=data[['annual_inc_joint', 'dti_joint', 'verification_status_joint', 'open_acc_6m', 'open_il_6m', 'open_il_12m', 'open_il_24m', 'mths_since_rcnt_il', 'total_bal_il', 'il_util', 'open_rv_12m', 'open_rv_24m', 'max_bal_bc', 'all_util', 'inq_fi', 'total_cu_tl', 'inq_last_12m','mths_since_last_delinq','mths_since_last_record','mths_since_last_major_derog']].fillna(0)\n",
    "    data[['mths_since_last_delinq','mths_since_last_record','mths_since_last_major_derog']]=MinMaxScaler().fit_transform(data[['mths_since_last_delinq','mths_since_last_record','mths_since_last_major_derog']])\n",
    "    data[['mths_since_last_delinq','mths_since_last_record','mths_since_last_major_derog']]=np.where(data[['mths_since_last_delinq','mths_since_last_record','mths_since_last_major_derog']]==1,0,data[['mths_since_last_delinq','mths_since_last_record','mths_since_last_major_derog']])\n",
    "    data=data.drop(['index','id','member_id','desc','next_pymnt_d','emp_title','url','verification_status_joint'],axis=1)\n",
    "    imputer=Imputer(strategy='median')\n",
    "    data[['tot_coll_amt','tot_cur_bal','total_rev_hi_lim']]=imputer.fit_transform(data[['tot_coll_amt','tot_cur_bal','total_rev_hi_lim']])\n",
    "    data=data.dropna()\n",
    "    return data"
   ]
  },
  {
   "cell_type": "code",
   "execution_count": 16,
   "metadata": {},
   "outputs": [
    {
     "name": "stdout",
     "output_type": "stream",
     "text": [
      "<class 'pandas.core.frame.DataFrame'>\n",
      "Int64Index: 869044 entries, 0 to 887382\n",
      "Data columns (total 67 columns):\n",
      "loan_amnt                      869044 non-null float64\n",
      "funded_amnt                    869044 non-null float64\n",
      "funded_amnt_inv                869044 non-null float64\n",
      "term                           869044 non-null object\n",
      "int_rate                       869044 non-null object\n",
      "installment                    869044 non-null float64\n",
      "grade                          869044 non-null object\n",
      "sub_grade                      869044 non-null object\n",
      "emp_length                     869044 non-null object\n",
      "home_ownership                 869044 non-null object\n",
      "annual_inc                     869044 non-null float64\n",
      "verification_status            869044 non-null object\n",
      "issue_d                        869044 non-null object\n",
      "loan_status                    869044 non-null object\n",
      "pymnt_plan                     869044 non-null object\n",
      "purpose                        869044 non-null object\n",
      "title                          869044 non-null object\n",
      "zip_code                       869044 non-null object\n",
      "addr_state                     869044 non-null object\n",
      "dti                            869044 non-null float64\n",
      "delinq_2yrs                    869044 non-null float64\n",
      "earliest_cr_line               869044 non-null object\n",
      "inq_last_6mths                 869044 non-null float64\n",
      "mths_since_last_delinq         869044 non-null float64\n",
      "mths_since_last_record         869044 non-null float64\n",
      "open_acc                       869044 non-null float64\n",
      "pub_rec                        869044 non-null float64\n",
      "revol_bal                      869044 non-null float64\n",
      "revol_util                     869044 non-null object\n",
      "total_acc                      869044 non-null float64\n",
      "initial_list_status            869044 non-null object\n",
      "out_prncp                      869044 non-null float64\n",
      "out_prncp_inv                  869044 non-null float64\n",
      "total_pymnt                    869044 non-null float64\n",
      "total_pymnt_inv                869044 non-null float64\n",
      "total_rec_prncp                869044 non-null float64\n",
      "total_rec_int                  869044 non-null float64\n",
      "total_rec_late_fee             869044 non-null float64\n",
      "recoveries                     869044 non-null float64\n",
      "collection_recovery_fee        869044 non-null float64\n",
      "last_pymnt_d                   869044 non-null object\n",
      "last_pymnt_amnt                869044 non-null float64\n",
      "last_credit_pull_d             869044 non-null object\n",
      "collections_12_mths_ex_med     869044 non-null float64\n",
      "mths_since_last_major_derog    869044 non-null float64\n",
      "policy_code                    869044 non-null float64\n",
      "application_type               869044 non-null object\n",
      "annual_inc_joint               869044 non-null float64\n",
      "dti_joint                      869044 non-null float64\n",
      "acc_now_delinq                 869044 non-null float64\n",
      "tot_coll_amt                   869044 non-null float64\n",
      "tot_cur_bal                    869044 non-null float64\n",
      "open_acc_6m                    869044 non-null float64\n",
      "open_il_6m                     869044 non-null float64\n",
      "open_il_12m                    869044 non-null float64\n",
      "open_il_24m                    869044 non-null float64\n",
      "mths_since_rcnt_il             869044 non-null float64\n",
      "total_bal_il                   869044 non-null float64\n",
      "il_util                        869044 non-null float64\n",
      "open_rv_12m                    869044 non-null float64\n",
      "open_rv_24m                    869044 non-null float64\n",
      "max_bal_bc                     869044 non-null float64\n",
      "all_util                       869044 non-null float64\n",
      "total_rev_hi_lim               869044 non-null float64\n",
      "inq_fi                         869044 non-null float64\n",
      "total_cu_tl                    869044 non-null float64\n",
      "inq_last_12m                   869044 non-null float64\n",
      "dtypes: float64(47), object(20)\n",
      "memory usage: 450.9+ MB\n"
     ]
    }
   ],
   "source": [
    "\n",
    "data1=transform(data)\n",
    "data1.info()"
   ]
  },
  {
   "cell_type": "code",
   "execution_count": 33,
   "metadata": {
    "collapsed": true
   },
   "outputs": [],
   "source": [
    "data2=data1.copy()\n",
    "#data2.term=data2.term.map(lambda x: int(x[1:3]))"
   ]
  },
  {
   "cell_type": "code",
   "execution_count": 34,
   "metadata": {},
   "outputs": [],
   "source": [
    "import datetime\n",
    "import numba as nb\n",
    "#@nb.jit(nopython=True)\n",
    "def transdate(series):\n",
    "    return series.map(lambda x: round((datetime.datetime.strptime('Feb-2016','%b-%Y')-datetime.datetime.strptime(x,'%b-%Y')).days/30))\n",
    "def transform2(data2):\n",
    "    data2.int_rate=data2.int_rate.map(lambda x: float(x[1:6]))\n",
    "    data2[['issue_d','last_pymnt_d','last_credit_pull_d']]=data2[['issue_d','last_pymnt_d','last_credit_pull_d']].apply(transdate)\n",
    "    #data2.title[data2.title.isin(data2.title.value_counts()[data2.title.value_counts()<1000].index)]='other'\n",
    "    data2.revol_util=data2.revol_util.map(lambda x: float(x[:-1]))\n",
    "    objects=list(data2.dtypes[data2.dtypes=='object'].index)\n",
    "    from sklearn.preprocessing import LabelEncoder\n",
    "    data2[objects]=data2[objects].apply(LabelEncoder().fit_transform)\n",
    "    return data2"
   ]
  },
  {
   "cell_type": "code",
   "execution_count": null,
   "metadata": {},
   "outputs": [],
   "source": [
    "data3=transform2(data2)\n",
    "data3.info()"
   ]
  },
  {
   "cell_type": "code",
   "execution_count": 271,
   "metadata": {
    "collapsed": true
   },
   "outputs": [],
   "source": [
    "data3.loan_status=np.where(data3.loan_status.isin([1,5]),0,1)\n",
    "\n",
    "#data3.loan_status.value_counts()\n",
    "\n",
    "from sklearn.model_selection import train_test_split\n",
    "train,validate=train_test_split(data3, test_size=0.2,random_state=42,stratify=data3.loan_status)\n",
    "\n",
    "train_y=train.loan_status\n",
    "train_x=train.drop('loan_status',axis=1)\n",
    "\n",
    "from sklearn.preprocessing import StandardScaler\n",
    "train_x1=StandardScaler().fit_transform(train_x)"
   ]
  },
  {
   "cell_type": "code",
   "execution_count": 285,
   "metadata": {},
   "outputs": [
    {
     "data": {
      "text/plain": [
       "LogisticRegression(C=1.0, class_weight=None, dual=False, fit_intercept=True,\n",
       "          intercept_scaling=1, max_iter=100, multi_class='ovr', n_jobs=1,\n",
       "          penalty='l2', random_state=None, solver='liblinear', tol=0.0001,\n",
       "          verbose=0, warm_start=False)"
      ]
     },
     "execution_count": 285,
     "metadata": {},
     "output_type": "execute_result"
    }
   ],
   "source": [
    "from sklearn.linear_model import LogisticRegression, SGDClassifier\n",
    "log=LogisticRegression()\n",
    "log.fit(train_x1,train_y)"
   ]
  },
  {
   "cell_type": "code",
   "execution_count": 286,
   "metadata": {
    "collapsed": true
   },
   "outputs": [],
   "source": [
    "validate_y=validate.loan_status\n",
    "validate_x=validate.drop('loan_status',axis=1)\n",
    "validate_x1=StandardScaler().fit_transform(validate_x)"
   ]
  },
  {
   "cell_type": "code",
   "execution_count": 288,
   "metadata": {},
   "outputs": [
    {
     "data": {
      "text/plain": [
       "(173809,)"
      ]
     },
     "execution_count": 288,
     "metadata": {},
     "output_type": "execute_result"
    }
   ],
   "source": [
    "log.predict(validate_x1)"
   ]
  },
  {
   "cell_type": "code",
   "execution_count": 289,
   "metadata": {},
   "outputs": [
    {
     "data": {
      "text/plain": [
       "array([ 0.97196631,  0.97154919,  0.97236906,  0.97135501,  0.97103857])"
      ]
     },
     "execution_count": 289,
     "metadata": {},
     "output_type": "execute_result"
    }
   ],
   "source": [
    "from sklearn.model_selection import cross_val_score\n",
    "cross_val_score(log,train_x1,train_y,cv=5,scoring='accuracy')"
   ]
  },
  {
   "cell_type": "code",
   "execution_count": 291,
   "metadata": {},
   "outputs": [
    {
     "data": {
      "text/plain": [
       "0.9146026635226292"
      ]
     },
     "execution_count": 291,
     "metadata": {},
     "output_type": "execute_result"
    }
   ],
   "source": [
    "1-68375/800669"
   ]
  },
  {
   "cell_type": "code",
   "execution_count": 292,
   "metadata": {
    "collapsed": true
   },
   "outputs": [],
   "source": [
    "from sklearn.model_selection import cross_val_predict\n",
    "pred_y=cross_val_predict(log,train_x1,train_y,cv=5)"
   ]
  },
  {
   "cell_type": "code",
   "execution_count": 293,
   "metadata": {},
   "outputs": [
    {
     "data": {
      "text/plain": [
       "array([[639557,    978],\n",
       "       [ 18728,  35972]], dtype=int64)"
      ]
     },
     "execution_count": 293,
     "metadata": {},
     "output_type": "execute_result"
    }
   ],
   "source": [
    "from sklearn.metrics import confusion_matrix, precision_score, recall_score, roc_auc_score\n",
    "confusion_matrix(train_y,pred_y)"
   ]
  },
  {
   "cell_type": "code",
   "execution_count": null,
   "metadata": {
    "collapsed": true
   },
   "outputs": [],
   "source": [
    "#from sklearn.neighbors import KNeighborsClassifier\n",
    "from sklearn.svm import SVC\n",
    "from sklearn.ensemble import RandomForestClassifier, AdaBoostClassifier\n",
    "from sklearn.discriminant_analysis import QuadraticDiscriminantAnalysis\n",
    "names=['svc_linear','svc_rbf','qda','rfc','abc']\n",
    "classifiers = [SVC(kernel=\"linear\", C=0.025),\n",
    "               SVC(gamma=2, C=1),\n",
    "               QuadraticDiscriminantAnalysis(),\n",
    "               RandomForestClassifier(max_depth=5, n_estimators=20, max_features=8),\n",
    "               AdaBoostClassifier()]\n",
    "for name, clf in zip(names,classifiers):\n",
    "    print(cross_val_score(clf,train_x1,train_y,cv=3,scoring='accuracy'))\n",
    "    pred_y=cross_val_predict(clf,train_x1,train_y,cv=3)\n",
    "    print(confusion_matrix(train_y,pred_y))\n",
    "    print(roc_auc_score(train_y,pred_y))\n",
    "#knn=KNeighborsClassifier(3)\n"
   ]
  },
  {
   "cell_type": "code",
   "execution_count": 296,
   "metadata": {},
   "outputs": [
    {
     "name": "stderr",
     "output_type": "stream",
     "text": [
      "C:\\Users\\fzhan\\Anaconda3\\lib\\site-packages\\sklearn\\linear_model\\stochastic_gradient.py:128: FutureWarning: max_iter and tol parameters have been added in <class 'sklearn.linear_model.stochastic_gradient.SGDClassifier'> in 0.19. If both are left unset, they default to max_iter=5 and tol=None. If tol is not None, max_iter defaults to max_iter=1000. From 0.21, default max_iter will be 1000, and default tol will be 1e-3.\n",
      "  \"and default tol will be 1e-3.\" % type(self), FutureWarning)\n",
      "C:\\Users\\fzhan\\Anaconda3\\lib\\site-packages\\sklearn\\linear_model\\stochastic_gradient.py:128: FutureWarning: max_iter and tol parameters have been added in <class 'sklearn.linear_model.stochastic_gradient.SGDClassifier'> in 0.19. If both are left unset, they default to max_iter=5 and tol=None. If tol is not None, max_iter defaults to max_iter=1000. From 0.21, default max_iter will be 1000, and default tol will be 1e-3.\n",
      "  \"and default tol will be 1e-3.\" % type(self), FutureWarning)\n",
      "C:\\Users\\fzhan\\Anaconda3\\lib\\site-packages\\sklearn\\linear_model\\stochastic_gradient.py:128: FutureWarning: max_iter and tol parameters have been added in <class 'sklearn.linear_model.stochastic_gradient.SGDClassifier'> in 0.19. If both are left unset, they default to max_iter=5 and tol=None. If tol is not None, max_iter defaults to max_iter=1000. From 0.21, default max_iter will be 1000, and default tol will be 1e-3.\n",
      "  \"and default tol will be 1e-3.\" % type(self), FutureWarning)\n"
     ]
    },
    {
     "data": {
      "text/plain": [
       "array([[639557,    978],\n",
       "       [ 18728,  35972]], dtype=int64)"
      ]
     },
     "execution_count": 296,
     "metadata": {},
     "output_type": "execute_result"
    }
   ],
   "source": [
    "from sklean.model_selection import GridSearchCV\n",
    "from sklearn.metrics import roc_auc_score, make_score\n",
    "param_grid=[{:[]},{:[]}]\n",
    "#define your own measure\n",
    "score_measure=make_score(roc_auc_score)\n",
    "grid_search=GridSearchCV(clf,param_grid,cv=5,scoring=score_measure)\n",
    "grid_search.fit(train_x1,train_y)\n",
    "grid_search.best_params_\n",
    "cvres=grid_search.cv_results_\n",
    "for score,params in zip(cvres[score_measure],cvres['params']):\n",
    "    print(score,params)"
   ]
  },
  {
   "cell_type": "code",
   "execution_count": null,
   "metadata": {
    "collapsed": true
   },
   "outputs": [],
   "source": [
    "final_model=grid_search.best_estimator_\n",
    "final_pred=final_model.predict(test_x_transformed)"
   ]
  }
 ],
 "metadata": {
  "kernelspec": {
   "display_name": "Python 3",
   "language": "python",
   "name": "python3"
  },
  "language_info": {
   "codemirror_mode": {
    "name": "ipython",
    "version": 3
   },
   "file_extension": ".py",
   "mimetype": "text/x-python",
   "name": "python",
   "nbconvert_exporter": "python",
   "pygments_lexer": "ipython3",
   "version": "3.6.3"
  }
 },
 "nbformat": 4,
 "nbformat_minor": 2
}
